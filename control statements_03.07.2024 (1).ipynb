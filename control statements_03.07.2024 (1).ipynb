{
 "cells": [
  {
   "cell_type": "code",
   "execution_count": null,
   "id": "38b29527",
   "metadata": {},
   "outputs": [],
   "source": [
    "flow control statements:"
   ]
  },
  {
   "cell_type": "code",
   "execution_count": null,
   "id": "077a48a0",
   "metadata": {},
   "outputs": [],
   "source": [
    "line by line -- sequential"
   ]
  },
  {
   "cell_type": "code",
   "execution_count": 1,
   "id": "551623b9",
   "metadata": {},
   "outputs": [
    {
     "name": "stdout",
     "output_type": "stream",
     "text": [
      "hi\n",
      "Python\n",
      "welcome\n"
     ]
    }
   ],
   "source": [
    "print(\"hi\")\n",
    "print(\"Python\")\n",
    "print(\"welcome\")"
   ]
  },
  {
   "cell_type": "code",
   "execution_count": null,
   "id": "2b1cdfb0",
   "metadata": {},
   "outputs": [],
   "source": [
    "flow control statements:\n",
    "    1.simple if\n",
    "    2.if-else\n",
    "    3.if-else ladder\n",
    "    4.nested if-else"
   ]
  },
  {
   "cell_type": "code",
   "execution_count": null,
   "id": "0cef68ad",
   "metadata": {},
   "outputs": [],
   "source": [
    "1.simple if:\n",
    "    when we have single condition"
   ]
  },
  {
   "cell_type": "code",
   "execution_count": null,
   "id": "b4baae99",
   "metadata": {},
   "outputs": [],
   "source": [
    "if condition: True\n",
    "    block of code"
   ]
  },
  {
   "cell_type": "code",
   "execution_count": 3,
   "id": "222f2dc1",
   "metadata": {},
   "outputs": [
    {
     "name": "stdout",
     "output_type": "stream",
     "text": [
      "voting eligility Test\n",
      "Enter the Age:25\n",
      "You can vote!\n",
      "thanks\n"
     ]
    }
   ],
   "source": [
    "print(\"voting eligility Test\")\n",
    "age = int(input(\"Enter the Age:\"))\n",
    "if age >18:\n",
    "    print(\"You can vote!\")\n",
    "print(\"thanks\")"
   ]
  },
  {
   "cell_type": "code",
   "execution_count": 5,
   "id": "6756e55f",
   "metadata": {},
   "outputs": [
    {
     "name": "stdout",
     "output_type": "stream",
     "text": [
      "Enter the filename:test.pdf\n",
      "file valid test.pdf -- processing \n",
      "thanks\n"
     ]
    }
   ],
   "source": [
    "filename = input(\"Enter the filename:\")\n",
    "if filename.endswith('.pdf'):\n",
    "    print(\"file valid {} -- processing \".format(filename))\n",
    "print(\"thanks\")"
   ]
  },
  {
   "cell_type": "code",
   "execution_count": 8,
   "id": "35c2a70a",
   "metadata": {},
   "outputs": [
    {
     "name": "stdout",
     "output_type": "stream",
     "text": [
      "1\n",
      "2\n",
      "3\n",
      "6\n",
      "7\n"
     ]
    }
   ],
   "source": [
    "print(\"1\")\n",
    "print(\"2\")\n",
    "print(\"3\")\n",
    "a = 10\n",
    "if a>100:\n",
    "    print(\"4\")\n",
    "    print(\"5\")\n",
    "print(\"6\")\n",
    "print(\"7\")"
   ]
  },
  {
   "cell_type": "code",
   "execution_count": 10,
   "id": "e6c73203",
   "metadata": {},
   "outputs": [],
   "source": [
    "import os"
   ]
  },
  {
   "cell_type": "code",
   "execution_count": 11,
   "id": "1ad8b5b1",
   "metadata": {},
   "outputs": [
    {
     "name": "stdout",
     "output_type": "stream",
     "text": [
      "list_operation_22.06.2024.ipynb\n",
      "list_operation_24.06.2024.ipynb\n"
     ]
    }
   ],
   "source": [
    "for file in os.listdir('.'):\n",
    "    if file.startswith('list'):\n",
    "        print(file)"
   ]
  },
  {
   "cell_type": "code",
   "execution_count": null,
   "id": "f8732b0e",
   "metadata": {},
   "outputs": [],
   "source": [
    "1 - 10 \n",
    "1 - 10 \n",
    "1 -10\n"
   ]
  }
 ],
 "metadata": {
  "kernelspec": {
   "display_name": "Python 3",
   "language": "python",
   "name": "python3"
  },
  "language_info": {
   "codemirror_mode": {
    "name": "ipython",
    "version": 3
   },
   "file_extension": ".py",
   "mimetype": "text/x-python",
   "name": "python",
   "nbconvert_exporter": "python",
   "pygments_lexer": "ipython3",
   "version": "3.8.8"
  }
 },
 "nbformat": 4,
 "nbformat_minor": 5
}
